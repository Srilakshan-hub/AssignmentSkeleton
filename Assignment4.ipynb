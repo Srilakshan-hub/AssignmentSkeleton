{
 "cells": [
  {
   "cell_type": "code",
   "execution_count": 1,
   "id": "cf743b39",
   "metadata": {},
   "outputs": [],
   "source": [
    "#In this assignment 4 I'm going to analyse the women 100 meters world record  from 1975"
   ]
  },
  {
   "cell_type": "code",
   "execution_count": 2,
   "id": "c4568ea4",
   "metadata": {},
   "outputs": [],
   "source": [
    "import pandas as pd\n",
    "import numpy as np\n",
    "import matplotlib.pyplot as plt\n",
    "from sklearn.linear_model import LinearRegression"
   ]
  },
  {
   "cell_type": "code",
   "execution_count": 3,
   "id": "1190989d",
   "metadata": {},
   "outputs": [
    {
     "data": {
      "text/html": [
       "<div>\n",
       "<style scoped>\n",
       "    .dataframe tbody tr th:only-of-type {\n",
       "        vertical-align: middle;\n",
       "    }\n",
       "\n",
       "    .dataframe tbody tr th {\n",
       "        vertical-align: top;\n",
       "    }\n",
       "\n",
       "    .dataframe thead th {\n",
       "        text-align: right;\n",
       "    }\n",
       "</style>\n",
       "<table border=\"1\" class=\"dataframe\">\n",
       "  <thead>\n",
       "    <tr style=\"text-align: right;\">\n",
       "      <th></th>\n",
       "      <th>Year</th>\n",
       "      <th>Time</th>\n",
       "    </tr>\n",
       "  </thead>\n",
       "  <tbody>\n",
       "    <tr>\n",
       "      <th>0</th>\n",
       "      <td>1976</td>\n",
       "      <td>11.04</td>\n",
       "    </tr>\n",
       "    <tr>\n",
       "      <th>1</th>\n",
       "      <td>1976</td>\n",
       "      <td>11.01</td>\n",
       "    </tr>\n",
       "    <tr>\n",
       "      <th>2</th>\n",
       "      <td>1977</td>\n",
       "      <td>10.88</td>\n",
       "    </tr>\n",
       "    <tr>\n",
       "      <th>3</th>\n",
       "      <td>1982</td>\n",
       "      <td>10.88</td>\n",
       "    </tr>\n",
       "    <tr>\n",
       "      <th>4</th>\n",
       "      <td>1983</td>\n",
       "      <td>10.81</td>\n",
       "    </tr>\n",
       "    <tr>\n",
       "      <th>5</th>\n",
       "      <td>1983</td>\n",
       "      <td>10.79</td>\n",
       "    </tr>\n",
       "    <tr>\n",
       "      <th>6</th>\n",
       "      <td>1984</td>\n",
       "      <td>10.76</td>\n",
       "    </tr>\n",
       "    <tr>\n",
       "      <th>7</th>\n",
       "      <td>1988</td>\n",
       "      <td>10.49</td>\n",
       "    </tr>\n",
       "  </tbody>\n",
       "</table>\n",
       "</div>"
      ],
      "text/plain": [
       "   Year   Time\n",
       "0  1976  11.04\n",
       "1  1976  11.01\n",
       "2  1977  10.88\n",
       "3  1982  10.88\n",
       "4  1983  10.81\n",
       "5  1983  10.79\n",
       "6  1984  10.76\n",
       "7  1988  10.49"
      ]
     },
     "execution_count": 3,
     "metadata": {},
     "output_type": "execute_result"
    }
   ],
   "source": [
    "# Lets enter our data from wikipedia for the women 100m from 1975:\n",
    "years = [1976, 1976, 1977, 1982, 1983, 1983, 1984, 1988]\n",
    "times = [11.04, 11.01, 10.88, 10.88, 10.81, 10.79, 10.76, 10.49]\n",
    "table = pd.DataFrame({\"Year\": years, \"Time\": times}) \n",
    "table "
   ]
  },
  {
   "cell_type": "code",
   "execution_count": 4,
   "id": "26f7d577",
   "metadata": {},
   "outputs": [
    {
     "name": "stdout",
     "output_type": "stream",
     "text": [
      "Slope (coefficient): -0.03621825023518342\n",
      "Intercept: 82.58538099717775\n"
     ]
    }
   ],
   "source": [
    "# Lets find the equation of our regression model\n",
    "\n",
    "list_year = table[['Year']]  \n",
    "list_time = table['Time']     \n",
    "model = LinearRegression()\n",
    "model.fit(list_year, list_time)\n",
    "\n",
    "slope = model.coef_[0]\n",
    "intercept = model.intercept_\n",
    "\n",
    "print(f\"Slope (coefficient): {slope}\")\n",
    "print(f\"Intercept: {intercept}\")\n"
   ]
  },
  {
   "cell_type": "code",
   "execution_count": 5,
   "id": "6c060f40",
   "metadata": {},
   "outputs": [
    {
     "data": {
      "text/html": [
       "<div>\n",
       "<style scoped>\n",
       "    .dataframe tbody tr th:only-of-type {\n",
       "        vertical-align: middle;\n",
       "    }\n",
       "\n",
       "    .dataframe tbody tr th {\n",
       "        vertical-align: top;\n",
       "    }\n",
       "\n",
       "    .dataframe thead th {\n",
       "        text-align: right;\n",
       "    }\n",
       "</style>\n",
       "<table border=\"1\" class=\"dataframe\">\n",
       "  <thead>\n",
       "    <tr style=\"text-align: right;\">\n",
       "      <th></th>\n",
       "      <th>Year</th>\n",
       "      <th>Time</th>\n",
       "    </tr>\n",
       "  </thead>\n",
       "  <tbody>\n",
       "    <tr>\n",
       "      <th>0</th>\n",
       "      <td>[2023]</td>\n",
       "      <td>9.315861</td>\n",
       "    </tr>\n",
       "    <tr>\n",
       "      <th>1</th>\n",
       "      <td>[2024]</td>\n",
       "      <td>9.279643</td>\n",
       "    </tr>\n",
       "    <tr>\n",
       "      <th>2</th>\n",
       "      <td>[2025]</td>\n",
       "      <td>9.243424</td>\n",
       "    </tr>\n",
       "    <tr>\n",
       "      <th>3</th>\n",
       "      <td>[2026]</td>\n",
       "      <td>9.207206</td>\n",
       "    </tr>\n",
       "    <tr>\n",
       "      <th>4</th>\n",
       "      <td>[2027]</td>\n",
       "      <td>9.170988</td>\n",
       "    </tr>\n",
       "    <tr>\n",
       "      <th>5</th>\n",
       "      <td>[2028]</td>\n",
       "      <td>9.134770</td>\n",
       "    </tr>\n",
       "    <tr>\n",
       "      <th>6</th>\n",
       "      <td>[2029]</td>\n",
       "      <td>9.098551</td>\n",
       "    </tr>\n",
       "    <tr>\n",
       "      <th>7</th>\n",
       "      <td>[2030]</td>\n",
       "      <td>9.062333</td>\n",
       "    </tr>\n",
       "  </tbody>\n",
       "</table>\n",
       "</div>"
      ],
      "text/plain": [
       "     Year      Time\n",
       "0  [2023]  9.315861\n",
       "1  [2024]  9.279643\n",
       "2  [2025]  9.243424\n",
       "3  [2026]  9.207206\n",
       "4  [2027]  9.170988\n",
       "5  [2028]  9.134770\n",
       "6  [2029]  9.098551\n",
       "7  [2030]  9.062333"
      ]
     },
     "execution_count": 5,
     "metadata": {},
     "output_type": "execute_result"
    }
   ],
   "source": [
    "# Now using the equation of the regression model we found, lets predict the time for the year 2023-2030:\n",
    "\n",
    "prediction_year = [[2023] , [2024] , [2025] , [2026] , [2027] , [2028] , [2029] , [2030]]\n",
    "year_data = pd.DataFrame(prediction_year, columns=[\"Year\"])\n",
    "years_trend = np.array(range(1975, 2031)).reshape(-1, 1)\n",
    "times_pred = model.predict(year_data)\n",
    "pd.DataFrame({\"Year\": prediction_year, \"Time\": times_pred}) "
   ]
  },
  {
   "cell_type": "code",
   "execution_count": 7,
   "id": "a6a26398",
   "metadata": {},
   "outputs": [
    {
     "data": {
      "text/plain": [
       "array([11.05433678, 11.01811853, 10.98190028, 10.94568203, 10.90946378,\n",
       "       10.87324553, 10.83702728, 10.80080903, 10.76459078, 10.72837253,\n",
       "       10.69215428, 10.65593603, 10.61971778, 10.58349953, 10.54728128,\n",
       "       10.51106303, 10.47484478, 10.43862653, 10.40240828, 10.36619003,\n",
       "       10.32997178, 10.29375353, 10.25753528, 10.22131703, 10.18509878,\n",
       "       10.14888053, 10.11266228, 10.07644403, 10.04022578, 10.00400753,\n",
       "        9.96778928,  9.93157103,  9.89535278,  9.85913452,  9.82291627,\n",
       "        9.78669802,  9.75047977,  9.71426152,  9.67804327,  9.64182502,\n",
       "        9.60560677,  9.56938852,  9.53317027,  9.49695202,  9.46073377,\n",
       "        9.42451552,  9.38829727,  9.35207902,  9.31586077,  9.27964252,\n",
       "        9.24342427,  9.20720602,  9.17098777,  9.13476952,  9.09855127,\n",
       "        9.06233302])"
      ]
     },
     "execution_count": 7,
     "metadata": {},
     "output_type": "execute_result"
    }
   ],
   "source": [
    "# Now lets insert all the years from 1975 to 2030 and then find the predicted WR times for respectif year:\n",
    "all_years = pd.DataFrame(range(1975, 2031), columns=[\"Year\"])\n",
    "all_WR_times = model.predict(all_years)\n",
    "all_WR_times "
   ]
  },
  {
   "cell_type": "code",
   "execution_count": 9,
   "id": "25f86c97",
   "metadata": {},
   "outputs": [
    {
     "data": {
      "image/png": "[encoded data removed]",
      "text/plain": [
       "<Figure size 640x480 with 1 Axes>"
      ]
     },
     "metadata": {},
     "output_type": "display_data"
    }
   ],
   "source": [
    "#Now lets plot our WR since 1975 with the projected time from 2023-2030:\n",
    "plt.scatter(years,times ,label=\"Women 100m World Record data\",color=\"blue\")\n",
    "plt.scatter(year_data,times_pred, label=\"Futur 100m record from 2023-2030\",color=\"red\")\n",
    "plt.plot(all_years, all_WR_times, color='green', linewidth=2, label=\"Regression Line\")\n",
    "plt.legend()\n",
    "plt.xlabel(\"Years\")\n",
    "plt.ylabel(\"100m Women WR times (s)\")\n",
    "plt.show()"
   ]
  },
  {
   "cell_type": "code",
   "execution_count": 10,
   "id": "b5090fbd",
   "metadata": {},
   "outputs": [
    {
     "data": {
      "text/plain": [
       "0.8546228450935146"
      ]
     },
     "execution_count": 10,
     "metadata": {},
     "output_type": "execute_result"
    }
   ],
   "source": [
    "# Lets find the r^2 of our regression model:\n",
    "# We need to convert in list our data we enter at the beggining:\n",
    "r_square = model.score(list_year,list_time)\n",
    "r_square"
   ]
  },
  {
   "cell_type": "code",
   "execution_count": null,
   "id": "ed3a11b0",
   "metadata": {},
   "outputs": [],
   "source": []
  }
 ],
 "metadata": {
  "kernelspec": {
   "display_name": "Python 3 (ipykernel)",
   "language": "python",
   "name": "python3"
  },
  "language_info": {
   "codemirror_mode": {
    "name": "ipython",
    "version": 3
   },
   "file_extension": ".py",
   "mimetype": "text/x-python",
   "name": "python",
   "nbconvert_exporter": "python",
   "pygments_lexer": "ipython3",
   "version": "3.11.5"
  }
 },
 "nbformat": 4,
 "nbformat_minor": 5
}
